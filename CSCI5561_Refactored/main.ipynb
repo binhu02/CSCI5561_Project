{
 "cells": [
  {
   "cell_type": "markdown",
   "id": "2bf42d78",
   "metadata": {},
   "source": [
    "Bin's comment:\n",
    "\n",
    "**NOT COMPLETED**\n",
    "\n",
    "Last modified on 4/13"
   ]
  },
  {
   "cell_type": "raw",
   "id": "317bd0c1",
   "metadata": {},
   "source": [
    "***This block is not code\n",
    "***Read before running the notebook\n",
    "\n",
    "CREATE folder paths manually as:\n",
    "ROOT\n",
    "    |-model\n",
    "    |\n",
    "    |-dataset\n",
    "    |    |-X_train_input\n",
    "    |    |-X_train_target\n",
    "    |    |-X_test_input\n",
    "    |    |-X_test_target\n",
    "    |\n",
    "    |-main.ipynb\n",
    "    |\n",
    "    |-discarded_code\n",
    "\n",
    "The dataset is from:\n",
    "https://www.kaggle.com/datasets/sanglequang/brats-2018-full"
   ]
  },
  {
   "cell_type": "code",
   "execution_count": 1,
   "id": "29ddfb74",
   "metadata": {
    "ExecuteTime": {
     "end_time": "2023-04-24T06:42:56.356281Z",
     "start_time": "2023-04-24T06:42:53.784701Z"
    }
   },
   "outputs": [
    {
     "name": "stderr",
     "output_type": "stream",
     "text": [
      "c:\\Users\\tonyz\\anaconda3\\lib\\site-packages\\torchvision\\io\\image.py:13: UserWarning: Failed to load image Python extension: [WinError 127] The specified procedure could not be found\n",
      "  warn(f\"Failed to load image Python extension: {e}\")\n"
     ]
    }
   ],
   "source": [
    "import math\n",
    "import os\n",
    "import random\n",
    "import torch\n",
    "import torch.nn as nn\n",
    "import numpy as np\n",
    "import torch.nn as nn\n",
    "import torch.nn.functional as F\n",
    "import glob\n",
    "from matplotlib import pyplot as plt\n",
    "from tqdm.auto import tqdm\n",
    "from torch.utils.data import DataLoader, Dataset\n",
    "from torch.optim.lr_scheduler import CosineAnnealingWarmRestarts\n",
    "import SimpleITK as sitk\n",
    "import torch.optim as optim\n",
    "import torchvision\n",
    "from copy import deepcopy\n",
    "\n",
    "from UNet import UNet4, UNet3, UNet2"
   ]
  },
  {
   "cell_type": "code",
   "execution_count": 2,
   "id": "456a6559",
   "metadata": {
    "ExecuteTime": {
     "end_time": "2023-04-24T06:42:56.404291Z",
     "start_time": "2023-04-24T06:42:56.357281Z"
    }
   },
   "outputs": [],
   "source": [
    "class Config():\n",
    "    batch_size = 16\n",
    "    device = torch.device(\"cuda\") if torch.cuda.is_available() else torch.device(\"cpu\")\n",
    "    epochs = 6\n",
    "    warmup = 0.1\n",
    "    lr = 1e-5\n",
    "    T_0 = 100  # period of the first restart, we do not want it to restart, so we set it a big number\n",
    "    T_mult = 1  # period multiplier, it does not matter\n",
    "    eta_min = lr/10  # minimum learning rate\n",
    "    len_train_dataloader = None\n",
    "    len_valid_dataloader = None"
   ]
  },
  {
   "cell_type": "code",
   "execution_count": 3,
   "id": "cbb02826",
   "metadata": {
    "ExecuteTime": {
     "end_time": "2023-04-24T06:42:56.420295Z",
     "start_time": "2023-04-24T06:42:56.406293Z"
    }
   },
   "outputs": [],
   "source": [
    "# Set SEED here # to be completed"
   ]
  },
  {
   "cell_type": "code",
   "execution_count": 3,
   "id": "0fdf42b9",
   "metadata": {
    "ExecuteTime": {
     "end_time": "2023-04-24T06:42:56.436299Z",
     "start_time": "2023-04-24T06:42:56.421296Z"
    }
   },
   "outputs": [],
   "source": [
    "DATASET_PATH = 'dataset'\n",
    "TRAIN_X_PATH = os.path.join(DATASET_PATH, 'X_train_input')\n",
    "VALID_X_PATH = os.path.join(DATASET_PATH, 'X_test_input')\n",
    "TRAIN_Y_PATH = os.path.join(DATASET_PATH, 'X_train_target')\n",
    "VALID_Y_PATH = os.path.join(DATASET_PATH, 'X_test_target')"
   ]
  },
  {
   "cell_type": "code",
   "execution_count": 4,
   "id": "84398280",
   "metadata": {
    "ExecuteTime": {
     "end_time": "2023-04-24T06:42:56.484310Z",
     "start_time": "2023-04-24T06:42:56.437298Z"
    }
   },
   "outputs": [
    {
     "data": {
      "text/plain": [
       "35340"
      ]
     },
     "execution_count": 4,
     "metadata": {},
     "output_type": "execute_result"
    }
   ],
   "source": [
    "len_train = len(os.listdir(TRAIN_X_PATH))\n",
    "Config.len_train_dataloader = len_train//Config.batch_size\n",
    "len_train"
   ]
  },
  {
   "cell_type": "code",
   "execution_count": 5,
   "id": "49ed641c",
   "metadata": {
    "ExecuteTime": {
     "end_time": "2023-04-24T06:42:56.516317Z",
     "start_time": "2023-04-24T06:42:56.485311Z"
    }
   },
   "outputs": [
    {
     "data": {
      "text/plain": [
       "8835"
      ]
     },
     "execution_count": 5,
     "metadata": {},
     "output_type": "execute_result"
    }
   ],
   "source": [
    "len_valid = len(os.listdir(VALID_X_PATH))\n",
    "Config.len_valid_dataloader = len_valid//Config.batch_size\n",
    "len_valid"
   ]
  },
  {
   "cell_type": "markdown",
   "id": "d11c5a03",
   "metadata": {
    "ExecuteTime": {
     "end_time": "2023-04-13T01:16:15.971437Z",
     "start_time": "2023-04-13T01:16:15.964435Z"
    }
   },
   "source": [
    "The index of TRAIN SET ranges from 0 to 35339 (end included)\n",
    "\n",
    "The index of VALID SET ranges from 0 to 8834 (end included)"
   ]
  },
  {
   "cell_type": "code",
   "execution_count": 6,
   "id": "e9ccbaaa",
   "metadata": {
    "ExecuteTime": {
     "end_time": "2023-04-24T06:42:56.532321Z",
     "start_time": "2023-04-24T06:42:56.517318Z"
    }
   },
   "outputs": [],
   "source": [
    "def image_loader(mode, x_or_y, index):\n",
    "    \"\"\"\n",
    "    Return the numpy image given the information.\n",
    "    mode: 'train', 'valid' or 'test'\n",
    "    x_or_y: 'x' or 'y', 'x' stands for the input and 'y' stands for the target\n",
    "    index: int, the index of the image\n",
    "    \"\"\"\n",
    "    if mode == 'train':\n",
    "        if x_or_y == 'x':\n",
    "            filepath = os.path.join(TRAIN_X_PATH, os.path.basename(TRAIN_X_PATH)+'_'+str(index)+'.npy')\n",
    "        if x_or_y == 'y':\n",
    "            filepath = os.path.join(TRAIN_Y_PATH, os.path.basename(TRAIN_Y_PATH)+'_'+str(index)+'.npy')\n",
    "    elif mode == 'valid':\n",
    "        if x_or_y == 'x':\n",
    "            filepath = os.path.join(VALID_X_PATH, os.path.basename(VALID_X_PATH)+'_'+str(index)+'.npy')\n",
    "        if x_or_y == 'y':\n",
    "            filepath = os.path.join(VALID_Y_PATH, os.path.basename(VALID_Y_PATH)+'_'+str(index)+'.npy')\n",
    "    else:\n",
    "        raise ValueError(\"The first or the second parameter is not valid\")\n",
    "        \n",
    "    if not isinstance(index, int):\n",
    "        raise TypeError(\"Index should be an integer\")\n",
    "    \n",
    "    if mode == 'train' and (index < 0 or index > 35339):\n",
    "            raise IndexError(\"Image index out of range 0 - 35339\")\n",
    "            \n",
    "    if mode == 'valid' and (index < 0 or index > 8834):\n",
    "            raise IndexError(\"Image index out of range 0 - 8834\")\n",
    "    \n",
    "    return np.load(filepath)"
   ]
  },
  {
   "cell_type": "code",
   "execution_count": 8,
   "id": "8b0cc773",
   "metadata": {
    "ExecuteTime": {
     "end_time": "2023-04-24T06:42:56.548324Z",
     "start_time": "2023-04-24T06:42:56.535321Z"
    }
   },
   "outputs": [],
   "source": [
    "img_example = image_loader('valid', 'y', 560)"
   ]
  },
  {
   "cell_type": "code",
   "execution_count": 9,
   "id": "06a9d38a",
   "metadata": {
    "ExecuteTime": {
     "end_time": "2023-04-24T06:42:56.676353Z",
     "start_time": "2023-04-24T06:42:56.550325Z"
    }
   },
   "outputs": [
    {
     "data": {
      "text/plain": [
       "<matplotlib.image.AxesImage at 0x2213935dd60>"
      ]
     },
     "execution_count": 9,
     "metadata": {},
     "output_type": "execute_result"
    },
    {
     "data": {
      "image/png": "[encoded data removed]",
      "text/plain": [
       "<Figure size 432x288 with 1 Axes>"
      ]
     },
     "metadata": {
      "needs_background": "light"
     },
     "output_type": "display_data"
    }
   ],
   "source": [
    "plt.imshow(img_example)"
   ]
  },
  {
   "cell_type": "code",
   "execution_count": null,
   "id": "e971e057",
   "metadata": {},
   "outputs": [],
   "source": []
  },
  {
   "cell_type": "code",
   "execution_count": 10,
   "id": "9a2e36a0",
   "metadata": {
    "ExecuteTime": {
     "end_time": "2023-04-24T06:42:56.692356Z",
     "start_time": "2023-04-24T06:42:56.677353Z"
    }
   },
   "outputs": [
    {
     "data": {
      "text/plain": [
       "(240, 240)"
      ]
     },
     "execution_count": 10,
     "metadata": {},
     "output_type": "execute_result"
    }
   ],
   "source": [
    "image_loader('train', 'y', 6164).shape"
   ]
  },
  {
   "cell_type": "code",
   "execution_count": 11,
   "id": "c5ca0a24",
   "metadata": {
    "ExecuteTime": {
     "end_time": "2023-04-24T06:42:56.708360Z",
     "start_time": "2023-04-24T06:42:56.693358Z"
    }
   },
   "outputs": [
    {
     "data": {
      "text/plain": [
       "(240, 240, 4)"
      ]
     },
     "execution_count": 11,
     "metadata": {},
     "output_type": "execute_result"
    }
   ],
   "source": [
    "image_loader('train', 'x', 6164).shape"
   ]
  },
  {
   "cell_type": "markdown",
   "id": "16f521a6",
   "metadata": {},
   "source": [
    "**Bin's comment:**\n",
    "\n",
    "SimpleITK is a widely used package to transform medical images\n",
    "\n",
    "\n",
    "I dont know whether it is slower than other packages like torchvision transform\n",
    "You may define other transformation functions and compare them"
   ]
  },
  {
   "cell_type": "markdown",
   "id": "ac8d2643",
   "metadata": {},
   "source": [
    "##### Tony's Comment:\n",
    "Pytorch seems to work best for data augmentation"
   ]
  },
  {
   "cell_type": "code",
   "execution_count": 56,
   "id": "ebd62339",
   "metadata": {
    "ExecuteTime": {
     "end_time": "2023-04-24T06:42:56.724364Z",
     "start_time": "2023-04-24T06:42:56.710360Z"
    }
   },
   "outputs": [],
   "source": [
    "# Pytorch version\n",
    "# --------------------\n",
    "# This version is fast and more reliable than SITK version\n",
    "# NEW Applies transformation only p*100% of the time\n",
    "# NEW [incomplete] does not leave blank artifacts after rotation and translation\n",
    "# Applies several random tansformations to an image and the label\n",
    "# - Gaussian blur : image only\n",
    "# - Rotation : image and label\n",
    "# - Translation : image and label\n",
    "def transform(input_array, label_array):\n",
    "    \"\"\"\n",
    "    Data augmentation for training set.\n",
    "    input_array, label_array are in ndarray\n",
    "    \"\"\"\n",
    "\n",
    "    try:\n",
    "        # random chance: transformation happens p*100% of the time\n",
    "        p = 0.25 # default is 0.25\n",
    "        rand_val = np.random.rand()\n",
    "        if rand_val > p:\n",
    "            return input_array, label_array\n",
    "        \n",
    "        # set up params\n",
    "        max_rot = 5             # default is 5\n",
    "        max_translate = 0.05    # default is 0.05\n",
    "        sigma_min = 0.01        # default is 0.01\n",
    "        sigma_max = 1           # default is 1\n",
    "\n",
    "        # pytorch likes input to be in [C, H, W], so make 4 channels input, 1 channel label\n",
    "        H,W = label_array.shape\n",
    "        stacked_layers = np.vstack((input_array, label_array.reshape(1,H,W)))\n",
    "        stacked_tensor = torch.tensor(stacked_layers)\n",
    "\n",
    "        # the corner value of each channel is basically guarenteed to be the baseline value, \n",
    "        # so use the corner value as the fill value\n",
    "        fill_vals = [stacked_tensor[c,0,0] for c in range(stacked_tensor.shape[0])]\n",
    "\n",
    "        # Gaussian blur\n",
    "        blurT = torchvision.transforms.GaussianBlur(kernel_size=5, sigma=(sigma_min, sigma_max))\n",
    "        # transformed = blurT.forward(input_tensor).numpy()\n",
    "\n",
    "        # slight rotation\n",
    "        rotationT = torchvision.transforms.RandomRotation(degrees = (-1*max_rot,max_rot), fill=fill_vals)\n",
    "        # transformed = rotationT.forward(input_tensor).numpy()\n",
    "\n",
    "        # slight translation\n",
    "        translateT = torchvision.transforms.RandomAffine(degrees=0, translate=(0.0, max_translate), fill=fill_vals)\n",
    "        # transformed = translateT.forward(input_tensor).numpy()\n",
    "\n",
    "        # apply transformations\n",
    "        combinedT = torchvision.transforms.Compose([rotationT, translateT])\n",
    "        transformed_stacked = combinedT(stacked_tensor)\n",
    "        transformed_input = transformed_stacked[0:-1, :,:]\n",
    "        transformed_input = blurT.forward(transformed_input).numpy() # add blur to input\n",
    "        transformed_label = transformed_stacked[-1, :,:].numpy()\n",
    "\n",
    "        # turn back into original shape\n",
    "        # transformed_input_orig = np.array([[transformed_input[:,i,j] for j in range(transformed_input.shape[2])] for i in range(transformed_input.shape[1])])\n",
    "\n",
    "    except Exception as e:\n",
    "        transformed_input = input_array\n",
    "        transformed_label = label_array\n",
    "\n",
    "    return transformed_input, transformed_label"
   ]
  },
  {
   "cell_type": "code",
   "execution_count": 13,
   "id": "e94586df",
   "metadata": {
    "ExecuteTime": {
     "end_time": "2023-04-24T06:42:56.740368Z",
     "start_time": "2023-04-24T06:42:56.726364Z"
    }
   },
   "outputs": [],
   "source": [
    "# SimpleITK Version\n",
    "# ------------------\n",
    "# Broken: Use the pytorch version unless this one gets fixed\n",
    "def transformITK(input_array, label_array):\n",
    "    \"\"\"\n",
    "    Data augmentation for training set.\n",
    "    input_array, label_array are in ndarray\n",
    "    \"\"\"\n",
    "\n",
    "    # stack input and label so they can be modified togther\n",
    "    stacked = np.zeros((input_array.shape[0], input_array.shape[1], input_array.shape[2] + 1))\n",
    "    stacked[:,:,:-1] = input_array\n",
    "    stacked[:,:,-1] = label_array\n",
    "\n",
    "    # transform to simpleITK image\n",
    "    image = sitk.GetImageFromArray(stacked)\n",
    "\n",
    "    # get info about image\n",
    "    width, height, depth = image.GetSize()\n",
    "    image_center =  image.TransformIndexToPhysicalPoint((int(np.ceil(width/2)),\n",
    "                                          int(np.ceil(height/2)),\n",
    "                                          int(np.ceil(depth/2))))\n",
    "\n",
    "    # set transformation parameters\n",
    "    sigma_max = 0.01\n",
    "    sigma_min = 1\n",
    "    rot_max = -5 # in degrees\n",
    "    rot_min = 5 # in degrees\n",
    "    trnsl_x_max = 0.5\n",
    "    trnsl_x_min = -0.5\n",
    "    trnsl_y_max = 0.5\n",
    "    trnsl_y_min = -0.5\n",
    "\n",
    "    sigma = (sigma_max - sigma_min) * np.random.random_sample() + sigma_min\n",
    "    random_degree = (rot_max - rot_min) * np.random.random_sample() + rot_min\n",
    "    random_x = (trnsl_x_max - trnsl_x_min) * np.random.random_sample() + trnsl_x_min\n",
    "    random_y = (trnsl_y_max - trnsl_y_min) * np.random.random_sample() + trnsl_y_min\n",
    "    translation = (random_x, random_y, 0)\n",
    "\n",
    "    # preform rotation and translation on both\n",
    "    rotation_angle = np.deg2rad(random_degree)\n",
    "    euler_transform = sitk.Euler3DTransform(image_center, rotation_angle, 0, 0, translation)\n",
    "    reference_image = image\n",
    "    interpolator = sitk.sitkBSpline\n",
    "    default_value = 0\n",
    "    transformed = sitk.Resample(image, reference_image, euler_transform,\n",
    "                     interpolator, default_value)\n",
    "\n",
    "    # seperate input and label\n",
    "    transformed_stacked = sitk.GetArrayFromImage(transformed)\n",
    "    transformed_input = transformed_stacked[:,:,0:-1]\n",
    "    transformed_label = transformed_stacked[:,:,-1]\n",
    "\n",
    "    # preform gaussion blur on only input\n",
    "    input_image = sitk.GetImageFromArray(transformed_input)\n",
    "    gaussian = sitk.SmoothingRecursiveGaussianImageFilter()\n",
    "    gaussian.SetSigma(sigma)\n",
    "    transformed_image = gaussian.Execute(input_image)\n",
    "    \n",
    "    # turn back into numpy array\n",
    "    transformed_input = sitk.GetArrayFromImage(transformed_image)\n",
    "    \n",
    "    return transformed_input, transformed_label"
   ]
  },
  {
   "cell_type": "code",
   "execution_count": 57,
   "id": "2f0ebdf4",
   "metadata": {},
   "outputs": [
    {
     "data": {
      "image/png": "[encoded data removed]",
      "text/plain": [
       "<Figure size 1100x500 with 8 Axes>"
      ]
     },
     "metadata": {},
     "output_type": "display_data"
    }
   ],
   "source": [
    "idx = 70\n",
    "\n",
    "input_array = image_loader('train', 'x', idx)\n",
    "label_array = image_loader('train', 'y', idx)\n",
    "img_reordered = input_array.transpose((2, 0, 1))\n",
    "\n",
    "x1_orig, y1 = transform(img_reordered, label_array)\n",
    "x2_orig, y2 = transform(img_reordered, label_array)\n",
    "x3_orig, y3 = transform(img_reordered, label_array)\n",
    "\n",
    "fig, axs = plt.subplots(2, 4, figsize=(11, 5))\n",
    "imgs = [input_array[:,:,3], x1_orig[3,:,:], x2_orig[3,:,:], x3_orig[3,:,:], label_array, y1, y2, y3]\n",
    "imgs = [(img * (255/4)).astype('uint8') for img in imgs]\n",
    "axs = axs.flatten()\n",
    "for img, ax in zip(imgs, axs):\n",
    "    ax.imshow(img)\n",
    "    ax.set_xticks([])\n",
    "    ax.set_yticks([])\n",
    "plt.show()"
   ]
  },
  {
   "cell_type": "code",
   "execution_count": 15,
   "id": "226e9370",
   "metadata": {
    "ExecuteTime": {
     "end_time": "2023-04-24T06:43:02.996777Z",
     "start_time": "2023-04-24T06:43:02.661700Z"
    }
   },
   "outputs": [
    {
     "name": "stderr",
     "output_type": "stream",
     "text": [
      "Clipping input data to the valid range for imshow with RGB data ([0..1] for floats or [0..255] for integers).\n",
      "Clipping input data to the valid range for imshow with RGB data ([0..1] for floats or [0..255] for integers).\n"
     ]
    },
    {
     "data": {
      "image/png": "[encoded data removed]",
      "text/plain": [
       "<Figure size 432x288 with 4 Axes>"
      ]
     },
     "metadata": {
      "needs_background": "light"
     },
     "output_type": "display_data"
    }
   ],
   "source": [
    "plt.subplot(2,3,1)\n",
    "plt.imshow(img)\n",
    "plt.title(\"Original Image\")\n",
    "\n",
    "plt.subplot(2,3,2)\n",
    "plt.imshow(transformed_input_orig)\n",
    "plt.title(\"Pytorch Image\")\n",
    "\n",
    "# plt.subplot(2,3,3)\n",
    "# plt.imshow(transformed_inputITK)\n",
    "# plt.title(\"SITK Image\")\n",
    "\n",
    "plt.subplot(2,3,4)\n",
    "plt.imshow(label)\n",
    "plt.title(\"Original Label\")\n",
    "\n",
    "plt.subplot(2,3,5)\n",
    "plt.imshow(transformed_label)\n",
    "plt.title(\"Pytorch Label\")\n",
    "\n",
    "# plt.subplot(2,3,6)\n",
    "# plt.imshow(transformed_labelITK)\n",
    "# plt.title(\"SITK Label\")\n",
    "\n",
    "plt.suptitle(\"Data Augmentation Demo\")\n",
    "plt.show()"
   ]
  },
  {
   "cell_type": "code",
   "execution_count": 16,
   "id": "02918ff2",
   "metadata": {
    "ExecuteTime": {
     "end_time": "2023-04-24T06:43:03.012780Z",
     "start_time": "2023-04-24T06:43:02.997778Z"
    }
   },
   "outputs": [
    {
     "name": "stdout",
     "output_type": "stream",
     "text": [
      "<class 'numpy.ndarray'>\n",
      "float32\n"
     ]
    }
   ],
   "source": [
    "print(type(transformed_input))\n",
    "print(transformed_input.dtype)"
   ]
  },
  {
   "cell_type": "code",
   "execution_count": 17,
   "id": "96748154",
   "metadata": {
    "ExecuteTime": {
     "end_time": "2023-04-24T06:43:03.028784Z",
     "start_time": "2023-04-24T06:43:03.013781Z"
    }
   },
   "outputs": [],
   "source": [
    "class TrainDataset(Dataset):\n",
    "    def __init__(self):\n",
    "        pass\n",
    "\n",
    "    def __len__(self):\n",
    "        return len_train\n",
    "\n",
    "    def __getitem__(self, idx):\n",
    "        x, y = image_loader('train', 'x', idx), image_loader('train', 'y', idx)\n",
    "        x = x.transpose((2, 0, 1))\n",
    "        x, y = transform(x, y)\n",
    "        return x, y # NOTE the permute, => Batch*Channel*Wright*Height\n",
    "    \n",
    "class ValidDataset(Dataset):\n",
    "    def __init__(self):\n",
    "        pass\n",
    "\n",
    "    def __len__(self):\n",
    "        return len_valid\n",
    "\n",
    "    def __getitem__(self, idx):\n",
    "        x, y = image_loader('valid', 'x', idx), image_loader('valid', 'y', idx)\n",
    "        x = x.transpose((2, 0, 1))\n",
    "        return x,y\n",
    "\n",
    "train_dataset = TrainDataset()\n",
    "valid_dataset = ValidDataset()\n",
    "train_dataloader = DataLoader(train_dataset, batch_size=Config.batch_size, shuffle=True, drop_last=True)\n",
    "valid_dataloader = DataLoader(valid_dataset, batch_size=Config.batch_size, shuffle=False)"
   ]
  },
  {
   "cell_type": "code",
   "execution_count": 18,
   "id": "1d5bf5f3",
   "metadata": {
    "ExecuteTime": {
     "end_time": "2023-04-24T06:43:03.044787Z",
     "start_time": "2023-04-24T06:43:03.029785Z"
    }
   },
   "outputs": [],
   "source": [
    "#Test the model\n",
    "#net = UNet3(4, 5) # 4 channels, 5 classes (label 3 actually is ingored)\n",
    "#y = net(torch.randn(8,4,240,240))\n",
    "#_, y = torch.max(y, 1)\n",
    "#print(y.size())\n",
    "#del net, y"
   ]
  },
  {
   "cell_type": "code",
   "execution_count": 19,
   "id": "6e99060d",
   "metadata": {
    "ExecuteTime": {
     "end_time": "2023-04-24T06:43:03.060792Z",
     "start_time": "2023-04-24T06:43:03.045788Z"
    }
   },
   "outputs": [],
   "source": [
    "#The F1 score is the Dice coefficient of the set of retrieved items and the set of relevant items."
   ]
  },
  {
   "cell_type": "code",
   "execution_count": 20,
   "id": "5018b547",
   "metadata": {
    "ExecuteTime": {
     "end_time": "2023-04-24T08:22:31.313377Z",
     "start_time": "2023-04-24T06:43:03.061792Z"
    },
    "scrolled": false
   },
   "outputs": [
    {
     "name": "stdout",
     "output_type": "stream",
     "text": [
      "Epoch 1 start\n"
     ]
    },
    {
     "data": {
      "application/vnd.jupyter.widget-view+json": {
       "model_id": "b841116958884390bbcf5917dde45fa9",
       "version_major": 2,
       "version_minor": 0
      },
      "text/plain": [
       "  0%|          | 0/2208 [00:00<?, ?it/s]"
      ]
     },
     "metadata": {},
     "output_type": "display_data"
    },
    {
     "data": {
      "application/vnd.jupyter.widget-view+json": {
       "model_id": "4a42d05892a849feacaa9f7ee59b07e8",
       "version_major": 2,
       "version_minor": 0
      },
      "text/plain": [
       "  0%|          | 0/552 [00:00<?, ?it/s]"
      ]
     },
     "metadata": {},
     "output_type": "display_data"
    },
    {
     "name": "stdout",
     "output_type": "stream",
     "text": [
      "Check point saved!\n",
      "Epoch 1, Train Loss: 0.3946, Valid Loss: 0.4416\n",
      "------------------\n",
      "Epoch 2 start\n"
     ]
    },
    {
     "data": {
      "application/vnd.jupyter.widget-view+json": {
       "model_id": "271547c8a0d34e33aae515082f8d2c23",
       "version_major": 2,
       "version_minor": 0
      },
      "text/plain": [
       "  0%|          | 0/2208 [00:00<?, ?it/s]"
      ]
     },
     "metadata": {},
     "output_type": "display_data"
    },
    {
     "data": {
      "application/vnd.jupyter.widget-view+json": {
       "model_id": "4d2d91d28e0749718be0350c0691213c",
       "version_major": 2,
       "version_minor": 0
      },
      "text/plain": [
       "  0%|          | 0/552 [00:00<?, ?it/s]"
      ]
     },
     "metadata": {},
     "output_type": "display_data"
    },
    {
     "name": "stdout",
     "output_type": "stream",
     "text": [
      "Check point saved!\n",
      "Epoch 2, Train Loss: 0.2603, Valid Loss: 0.2733\n",
      "------------------\n",
      "Epoch 3 start\n"
     ]
    },
    {
     "data": {
      "application/vnd.jupyter.widget-view+json": {
       "model_id": "8df97760094f489698a6499c41de02f2",
       "version_major": 2,
       "version_minor": 0
      },
      "text/plain": [
       "  0%|          | 0/2208 [00:00<?, ?it/s]"
      ]
     },
     "metadata": {},
     "output_type": "display_data"
    },
    {
     "data": {
      "application/vnd.jupyter.widget-view+json": {
       "model_id": "2033657e0ba04e809c8f37067469346d",
       "version_major": 2,
       "version_minor": 0
      },
      "text/plain": [
       "  0%|          | 0/552 [00:00<?, ?it/s]"
      ]
     },
     "metadata": {},
     "output_type": "display_data"
    },
    {
     "name": "stdout",
     "output_type": "stream",
     "text": [
      "Epoch 3, Train Loss: 0.5091, Valid Loss: 0.3972\n",
      "------------------\n",
      "Epoch 4 start\n"
     ]
    },
    {
     "data": {
      "application/vnd.jupyter.widget-view+json": {
       "model_id": "eabb47fae0bf4a2ea287851adbf97d63",
       "version_major": 2,
       "version_minor": 0
      },
      "text/plain": [
       "  0%|          | 0/2208 [00:00<?, ?it/s]"
      ]
     },
     "metadata": {},
     "output_type": "display_data"
    },
    {
     "data": {
      "application/vnd.jupyter.widget-view+json": {
       "model_id": "aef2f6353ee34501832f14b3d6e52e5d",
       "version_major": 2,
       "version_minor": 0
      },
      "text/plain": [
       "  0%|          | 0/552 [00:00<?, ?it/s]"
      ]
     },
     "metadata": {},
     "output_type": "display_data"
    },
    {
     "name": "stdout",
     "output_type": "stream",
     "text": [
      "Epoch 4, Train Loss: 0.5590, Valid Loss: 0.4192\n",
      "------------------\n",
      "Epoch 5 start\n"
     ]
    },
    {
     "data": {
      "application/vnd.jupyter.widget-view+json": {
       "model_id": "82eff8afd2c644f7b5c2c586e209089c",
       "version_major": 2,
       "version_minor": 0
      },
      "text/plain": [
       "  0%|          | 0/2208 [00:00<?, ?it/s]"
      ]
     },
     "metadata": {},
     "output_type": "display_data"
    },
    {
     "data": {
      "application/vnd.jupyter.widget-view+json": {
       "model_id": "a93b681626d944d885485d98876c0a6d",
       "version_major": 2,
       "version_minor": 0
      },
      "text/plain": [
       "  0%|          | 0/552 [00:00<?, ?it/s]"
      ]
     },
     "metadata": {},
     "output_type": "display_data"
    },
    {
     "name": "stdout",
     "output_type": "stream",
     "text": [
      "Check point saved!\n",
      "Epoch 5, Train Loss: 0.0883, Valid Loss: 0.0965\n",
      "------------------\n",
      "Epoch 6 start\n"
     ]
    },
    {
     "data": {
      "application/vnd.jupyter.widget-view+json": {
       "model_id": "71ecca8436374253bdac5456461f81a4",
       "version_major": 2,
       "version_minor": 0
      },
      "text/plain": [
       "  0%|          | 0/2208 [00:00<?, ?it/s]"
      ]
     },
     "metadata": {},
     "output_type": "display_data"
    },
    {
     "data": {
      "application/vnd.jupyter.widget-view+json": {
       "model_id": "04ec1e19126e48fbab8898d3e2c915c0",
       "version_major": 2,
       "version_minor": 0
      },
      "text/plain": [
       "  0%|          | 0/552 [00:00<?, ?it/s]"
      ]
     },
     "metadata": {},
     "output_type": "display_data"
    },
    {
     "name": "stdout",
     "output_type": "stream",
     "text": [
      "Check point saved!\n",
      "Epoch 6, Train Loss: 0.0445, Valid Loss: 0.0564\n",
      "------------------\n",
      "Training completed, generating the report, may takes minutes\n"
     ]
    }
   ],
   "source": [
    "device=Config.device\n",
    "\n",
    "model = UNet3(4,5)\n",
    "bestModel = None\n",
    "bestLoss = 1000000\n",
    "model.to(device)\n",
    "\n",
    "criterion = nn.CrossEntropyLoss()\n",
    "\n",
    "optimizer = optim.Adam(model.parameters(), lr=Config.lr)\n",
    "\n",
    "scheduler = CosineAnnealingWarmRestarts(optimizer, T_0=Config.T_0, T_mult=Config.T_mult, eta_min=Config.eta_min)\n",
    "\n",
    "\n",
    "for epoch in range(Config.epochs):\n",
    "    print(\"Epoch \"+str(epoch+1)+\" start\")\n",
    "    model.train()\n",
    "    train_bar = tqdm(total=Config.len_train_dataloader)\n",
    "\n",
    "    for i, (inputs, targets) in enumerate(train_dataloader):\n",
    "        inputs, targets = inputs.to(device), targets.type(torch.LongTensor).to(device)\n",
    "\n",
    "        optimizer.zero_grad()\n",
    "\n",
    "\n",
    "        outputs = model(inputs)\n",
    "        loss = criterion(outputs, targets)\n",
    "        loss.backward()\n",
    "        optimizer.step()\n",
    "\n",
    "        scheduler.step(epoch + i/len(train_dataloader))\n",
    "        train_bar.update(1)\n",
    "        \n",
    "    train_bar.close()\n",
    "\n",
    "    model.eval()\n",
    "\n",
    "    valid_bar = tqdm(total=Config.len_valid_dataloader)\n",
    "    with torch.no_grad():\n",
    "        valid_loss = 0.0\n",
    "        total_pred = []\n",
    "        total_target = []\n",
    "        for j, (inputs, targets) in enumerate(valid_dataloader):\n",
    "            inputs, targets = inputs.to(device), targets.type(torch.LongTensor).to(device)\n",
    "\n",
    "            # forward\n",
    "            outputs = model(inputs)\n",
    "            result = torch.argmax(outputs.detach(), dim=1)\n",
    "            loss = criterion(outputs, targets)\n",
    "            \n",
    "            pred_numpy=result.cpu().numpy().flatten().tolist()\n",
    "            target_numpy=targets.cpu().numpy().flatten().tolist()\n",
    "            total_pred.append(pred_numpy)\n",
    "            total_target.append(target_numpy)\n",
    "            valid_loss += loss.item()\n",
    "            valid_bar.update(1)\n",
    "        valid_loss /= (j + 1)\n",
    "        if valid_loss<bestLoss:\n",
    "            bestLoss=loss.detach().cpu().item()\n",
    "            bestModel=deepcopy(model)\n",
    "            torch.save(bestModel, 'checkpoint.pt')\n",
    "            print('Check point saved!')\n",
    "    valid_bar.close()\n",
    "    print(f\"Epoch {epoch+1}, Train Loss: {loss.item():.4f}, Valid Loss: {valid_loss:.4f}\")\n",
    "    print('------------------')\n",
    "\n",
    "print('Training completed, generating the report, may takes minutes')\n",
    "total_pred = np.concatenate(total_pred)\n",
    "total_target = np.concatenate(total_target)\n"
   ]
  },
  {
   "cell_type": "code",
   "execution_count": 21,
   "id": "c6178046",
   "metadata": {
    "ExecuteTime": {
     "end_time": "2023-04-24T08:28:53.575941Z",
     "start_time": "2023-04-24T08:22:31.317377Z"
    }
   },
   "outputs": [
    {
     "name": "stdout",
     "output_type": "stream",
     "text": [
      "              precision    recall  f1-score   support\n",
      "\n",
      "  Background      0.996     0.999     0.997 502465142\n",
      "     NCR/NET      0.629     0.453     0.526   1632930\n",
      "          ED      0.629     0.546     0.584   3624115\n",
      "          ET      0.784     0.492     0.605   1173813\n",
      "\n",
      "    accuracy                          0.993 508896000\n",
      "   macro avg      0.759     0.622     0.678 508896000\n",
      "weighted avg      0.992     0.993     0.992 508896000\n",
      "\n"
     ]
    }
   ],
   "source": [
    "from sklearn.metrics import classification_report\n",
    "report = classification_report(total_target, total_pred, digits=3, target_names = ['Background', 'NCR/NET', 'ED', 'ET'])\n",
    "print(report)"
   ]
  },
  {
   "cell_type": "raw",
   "id": "b265a0d2",
   "metadata": {
    "ExecuteTime": {
     "end_time": "2023-04-23T09:44:32.770459Z",
     "start_time": "2023-04-23T09:44:19.361Z"
    }
   },
   "source": [
    "# reshape test\n",
    "idx = 6164\n",
    "img = image_loader('train', 'x', idx)\n",
    "\n",
    "# long way (ground truth)\n",
    "c0 = img[:,:,0]\n",
    "c1 = img[:,:,1]\n",
    "c2 = img[:,:,2]\n",
    "c3 = img[:,:,3]\n",
    "input_array = np.array([c0,c1,c2,c3])\n",
    "\n",
    "print(input_array.shape)\n",
    "\n",
    "# short way (experimental)\n",
    "test = np.array([img[:,:,i] for i in range(img.shape[2])])\n",
    "\n",
    "# test for equality\n",
    "print(np.sum(1*(input_array != test)))\n",
    "\n",
    "# now go back\n",
    "orig = np.array([[test[:,i,j] for j in range(test.shape[2])] for i in range(test.shape[1])])\n",
    "# orig = test.reshape(img.shape)\n",
    "\n",
    "# test for equality\n",
    "print(np.sum(1*(orig != img)))\n",
    "\n",
    "1*(orig != img)"
   ]
  },
  {
   "cell_type": "raw",
   "id": "62b5c3f2",
   "metadata": {
    "ExecuteTime": {
     "end_time": "2023-04-23T09:44:32.771459Z",
     "start_time": "2023-04-23T09:44:19.362Z"
    }
   },
   "source": [
    "# reshape testing\n",
    "#a = np.array([[[1,2],[4,5]],[[7,8],[10,11]]])\n",
    "#b = np.array([[3,6],[9,12]])\n",
    "#c = np.zeros((a.shape[0], a.shape[1], a.shape[2] + 1))\n",
    "#c[:,:,:-1] = a\n",
    "#c[:,:,-1] = b\n",
    "#print(c)"
   ]
  },
  {
   "cell_type": "code",
   "execution_count": null,
   "id": "6dc18754",
   "metadata": {},
   "outputs": [],
   "source": []
  },
  {
   "cell_type": "code",
   "execution_count": null,
   "id": "df9aa98d",
   "metadata": {},
   "outputs": [],
   "source": []
  }
 ],
 "metadata": {
  "kernelspec": {
   "display_name": "Python 3",
   "language": "python",
   "name": "python3"
  },
  "language_info": {
   "codemirror_mode": {
    "name": "ipython",
    "version": 3
   },
   "file_extension": ".py",
   "mimetype": "text/x-python",
   "name": "python",
   "nbconvert_exporter": "python",
   "pygments_lexer": "ipython3",
   "version": "3.8.16"
  }
 },
 "nbformat": 4,
 "nbformat_minor": 5
}

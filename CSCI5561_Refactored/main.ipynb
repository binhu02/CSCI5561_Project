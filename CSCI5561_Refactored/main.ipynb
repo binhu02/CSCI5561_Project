{
 "cells": [
  {
   "cell_type": "markdown",
   "id": "2bf42d78",
   "metadata": {},
   "source": [
    "Bin's comment:\n",
    "\n",
    "**NOT COMPLETED**\n",
    "\n",
    "Last modified on 4/13"
   ]
  },
  {
   "cell_type": "raw",
   "id": "317bd0c1",
   "metadata": {},
   "source": [
    "***This block is not code\n",
    "***Read before running the notebook\n",
    "\n",
    "CREATE folder paths manually as:\n",
    "ROOT\n",
    "    |-model\n",
    "    |\n",
    "    |-dataset\n",
    "    |    |-X_train_input\n",
    "    |    |-X_train_target\n",
    "    |    |-X_test_input\n",
    "    |    |-X_test_target\n",
    "    |\n",
    "    |-main.ipynb\n",
    "    |\n",
    "    |-discarded_code\n",
    "\n",
    "The dataset is from:\n",
    "https://www.kaggle.com/datasets/sanglequang/brats-2018-full"
   ]
  },
  {
   "cell_type": "raw",
   "id": "f3e38b91",
   "metadata": {},
   "source": []
  },
  {
   "cell_type": "code",
   "execution_count": 1,
   "id": "29ddfb74",
   "metadata": {
    "ExecuteTime": {
     "end_time": "2023-04-24T04:03:56.117020Z",
     "start_time": "2023-04-24T04:03:54.070560Z"
    }
   },
   "outputs": [],
   "source": [
    "import math\n",
    "import os\n",
    "import random\n",
    "import torch\n",
    "import torch.nn as nn\n",
    "import numpy as np\n",
    "import torch.nn as nn\n",
    "import torch.nn.functional as F\n",
    "import glob\n",
    "from matplotlib import pyplot as plt\n",
    "from tqdm.auto import tqdm\n",
    "from torch.utils.data import DataLoader, Dataset\n",
    "from torch.optim.lr_scheduler import CosineAnnealingWarmRestarts\n",
    "import SimpleITK as sitk\n",
    "import torch.optim as optim\n",
    "import torchvision\n",
    "from copy import deepcopy\n",
    "\n",
    "from UNet import UNet4, UNet3, UNet2"
   ]
  },
  {
   "cell_type": "code",
   "execution_count": 2,
   "id": "456a6559",
   "metadata": {
    "ExecuteTime": {
     "end_time": "2023-04-24T04:03:56.165031Z",
     "start_time": "2023-04-24T04:03:56.118021Z"
    }
   },
   "outputs": [],
   "source": [
    "class Config():\n",
    "    batch_size = 16\n",
    "    device = torch.device(\"cuda\") if torch.cuda.is_available() else torch.device(\"cpu\")\n",
    "    epochs = 4\n",
    "    warmup = 0.1\n",
    "    lr = 1e-5\n",
    "    T_0 = 100  # period of the first restart, we do not want it to restart, so we set it a big number\n",
    "    T_mult = 1  # period multiplier, it does not matter\n",
    "    eta_min = lr/10  # minimum learning rate\n",
    "    len_train_dataloader = None\n",
    "    len_valid_dataloader = None"
   ]
  },
  {
   "cell_type": "code",
   "execution_count": 3,
   "id": "cbb02826",
   "metadata": {
    "ExecuteTime": {
     "end_time": "2023-04-24T04:03:56.181035Z",
     "start_time": "2023-04-24T04:03:56.166032Z"
    }
   },
   "outputs": [],
   "source": [
    "# Set SEED here # to be completed"
   ]
  },
  {
   "cell_type": "code",
   "execution_count": 4,
   "id": "0fdf42b9",
   "metadata": {
    "ExecuteTime": {
     "end_time": "2023-04-24T04:03:56.197038Z",
     "start_time": "2023-04-24T04:03:56.183037Z"
    }
   },
   "outputs": [],
   "source": [
    "DATASET_PATH = 'dataset'\n",
    "TRAIN_X_PATH = os.path.join(DATASET_PATH, 'X_train_input')\n",
    "VALID_X_PATH = os.path.join(DATASET_PATH, 'X_test_input')\n",
    "TRAIN_Y_PATH = os.path.join(DATASET_PATH, 'X_train_target')\n",
    "VALID_Y_PATH = os.path.join(DATASET_PATH, 'X_test_target')"
   ]
  },
  {
   "cell_type": "code",
   "execution_count": 5,
   "id": "84398280",
   "metadata": {
    "ExecuteTime": {
     "end_time": "2023-04-24T04:03:56.245049Z",
     "start_time": "2023-04-24T04:03:56.198039Z"
    }
   },
   "outputs": [
    {
     "data": {
      "text/plain": [
       "35340"
      ]
     },
     "execution_count": 5,
     "metadata": {},
     "output_type": "execute_result"
    }
   ],
   "source": [
    "len_train = len(os.listdir(TRAIN_X_PATH))\n",
    "Config.len_train_dataloader = len_train//Config.batch_size\n",
    "len_train"
   ]
  },
  {
   "cell_type": "code",
   "execution_count": 6,
   "id": "49ed641c",
   "metadata": {
    "ExecuteTime": {
     "end_time": "2023-04-24T04:03:56.261053Z",
     "start_time": "2023-04-24T04:03:56.246050Z"
    }
   },
   "outputs": [
    {
     "data": {
      "text/plain": [
       "8835"
      ]
     },
     "execution_count": 6,
     "metadata": {},
     "output_type": "execute_result"
    }
   ],
   "source": [
    "len_valid = len(os.listdir(VALID_X_PATH))\n",
    "Config.len_valid_dataloader = len_valid//Config.batch_size\n",
    "len_valid"
   ]
  },
  {
   "cell_type": "markdown",
   "id": "d11c5a03",
   "metadata": {
    "ExecuteTime": {
     "end_time": "2023-04-13T01:16:15.971437Z",
     "start_time": "2023-04-13T01:16:15.964435Z"
    }
   },
   "source": [
    "The index of TRAIN SET ranges from 0 to 35339 (end included)\n",
    "\n",
    "The index of VALID SET ranges from 0 to 8834 (end included)"
   ]
  },
  {
   "cell_type": "code",
   "execution_count": 7,
   "id": "e9ccbaaa",
   "metadata": {
    "ExecuteTime": {
     "end_time": "2023-04-24T04:03:56.277056Z",
     "start_time": "2023-04-24T04:03:56.262054Z"
    }
   },
   "outputs": [],
   "source": [
    "def image_loader(mode, x_or_y, index):\n",
    "    \"\"\"\n",
    "    Return the numpy image given the information.\n",
    "    mode: 'train', 'valid' or 'test'\n",
    "    x_or_y: 'x' or 'y', 'x' stands for the input and 'y' stands for the target\n",
    "    index: int, the index of the image\n",
    "    \"\"\"\n",
    "    if mode == 'train':\n",
    "        if x_or_y == 'x':\n",
    "            filepath = os.path.join(TRAIN_X_PATH, os.path.basename(TRAIN_X_PATH)+'_'+str(index)+'.npy')\n",
    "        if x_or_y == 'y':\n",
    "            filepath = os.path.join(TRAIN_Y_PATH, os.path.basename(TRAIN_Y_PATH)+'_'+str(index)+'.npy')\n",
    "    elif mode == 'valid':\n",
    "        if x_or_y == 'x':\n",
    "            filepath = os.path.join(VALID_X_PATH, os.path.basename(VALID_X_PATH)+'_'+str(index)+'.npy')\n",
    "        if x_or_y == 'y':\n",
    "            filepath = os.path.join(VALID_Y_PATH, os.path.basename(VALID_Y_PATH)+'_'+str(index)+'.npy')\n",
    "    else:\n",
    "        raise ValueError(\"The first or the second parameter is not valid\")\n",
    "        \n",
    "    if not isinstance(index, int):\n",
    "        raise TypeError(\"Index should be an integer\")\n",
    "    \n",
    "    if mode == 'train' and (index < 0 or index > 35339):\n",
    "            raise IndexError(\"Image index out of range 0 - 35339\")\n",
    "            \n",
    "    if mode == 'valid' and (index < 0 or index > 8834):\n",
    "            raise IndexError(\"Image index out of range 0 - 8834\")\n",
    "    \n",
    "    return np.load(filepath)"
   ]
  },
  {
   "cell_type": "code",
   "execution_count": 8,
   "id": "8b0cc773",
   "metadata": {
    "ExecuteTime": {
     "end_time": "2023-04-24T04:03:56.292060Z",
     "start_time": "2023-04-24T04:03:56.279057Z"
    }
   },
   "outputs": [],
   "source": [
    "img_example = image_loader('valid', 'y', 560)"
   ]
  },
  {
   "cell_type": "code",
   "execution_count": 9,
   "id": "06a9d38a",
   "metadata": {
    "ExecuteTime": {
     "end_time": "2023-04-24T04:03:56.420088Z",
     "start_time": "2023-04-24T04:03:56.294061Z"
    }
   },
   "outputs": [
    {
     "data": {
      "text/plain": [
       "<matplotlib.image.AxesImage at 0x14eecb20d60>"
      ]
     },
     "execution_count": 9,
     "metadata": {},
     "output_type": "execute_result"
    },
    {
     "data": {
      "image/png": "[encoded data removed]",
      "text/plain": [
       "<Figure size 432x288 with 1 Axes>"
      ]
     },
     "metadata": {
      "needs_background": "light"
     },
     "output_type": "display_data"
    }
   ],
   "source": [
    "plt.imshow(img_example)"
   ]
  },
  {
   "cell_type": "code",
   "execution_count": null,
   "id": "e971e057",
   "metadata": {},
   "outputs": [],
   "source": []
  },
  {
   "cell_type": "code",
   "execution_count": 10,
   "id": "9a2e36a0",
   "metadata": {
    "ExecuteTime": {
     "end_time": "2023-04-24T04:03:56.436092Z",
     "start_time": "2023-04-24T04:03:56.421090Z"
    }
   },
   "outputs": [
    {
     "data": {
      "text/plain": [
       "(240, 240)"
      ]
     },
     "execution_count": 10,
     "metadata": {},
     "output_type": "execute_result"
    }
   ],
   "source": [
    "image_loader('train', 'y', 6164).shape"
   ]
  },
  {
   "cell_type": "code",
   "execution_count": 11,
   "id": "c5ca0a24",
   "metadata": {
    "ExecuteTime": {
     "end_time": "2023-04-24T04:03:56.452097Z",
     "start_time": "2023-04-24T04:03:56.437094Z"
    }
   },
   "outputs": [
    {
     "data": {
      "text/plain": [
       "(240, 240, 4)"
      ]
     },
     "execution_count": 11,
     "metadata": {},
     "output_type": "execute_result"
    }
   ],
   "source": [
    "image_loader('train', 'x', 6164).shape"
   ]
  },
  {
   "cell_type": "markdown",
   "id": "16f521a6",
   "metadata": {},
   "source": [
    "**Bin's comment:**\n",
    "\n",
    "SimpleITK is a widely used package to transform medical images\n",
    "\n",
    "\n",
    "I dont know whether it is slower than other packages like torchvision transform\n",
    "You may define other transformation functions and compare them"
   ]
  },
  {
   "cell_type": "markdown",
   "id": "ac8d2643",
   "metadata": {},
   "source": [
    "##### Tony's Comment:\n",
    "Pytorch seems to work best for data augmentation"
   ]
  },
  {
   "cell_type": "code",
   "execution_count": 12,
   "id": "ebd62339",
   "metadata": {
    "ExecuteTime": {
     "end_time": "2023-04-24T04:03:56.468099Z",
     "start_time": "2023-04-24T04:03:56.453097Z"
    }
   },
   "outputs": [],
   "source": [
    "# Pytorch version\n",
    "# --------------------\n",
    "# This version is fast and more reliable than SITK version\n",
    "# Applies several random tansformations to an image and the label\n",
    "# - Gaussian blur : image only\n",
    "# - Rotation : image and label\n",
    "# - Translation : image and label\n",
    "def transform(input_array, label_array):\n",
    "    \"\"\"\n",
    "    Data augmentation for training set.\n",
    "    input_array, label_array are in ndarray\n",
    "    \"\"\"\n",
    "    try:\n",
    "        # pytorch likes input to be in [C, H, W]\n",
    "        input_layers = [input_array[i,:,:] for i in range(input_array.shape[0])]\n",
    "        label_layers = [label_array]\n",
    "        stacked_layers = np.array(input_layers + label_layers)\n",
    "        stacked_tensor = torch.tensor(stacked_layers)\n",
    "\n",
    "        # Gaussian blur\n",
    "        blurT = torchvision.transforms.GaussianBlur(kernel_size=5, sigma=(0.01, 1))\n",
    "        # transformed = blurT.forward(input_tensor).numpy()\n",
    "\n",
    "        # slight rotation\n",
    "        rotationT = torchvision.transforms.RandomRotation(degrees = (-5,5))\n",
    "        # transformed = rotationT.forward(input_tensor).numpy()\n",
    "\n",
    "        # slight translation\n",
    "        translateT = torchvision.transforms.RandomAffine(degrees=0, translate=(0.0, 0.05))\n",
    "        # transformed = translateT.forward(input_tensor).numpy()\n",
    "\n",
    "        # apply transformations\n",
    "        combinedT = torchvision.transforms.Compose([rotationT, translateT])\n",
    "        transformed_stacked = combinedT(stacked_tensor)\n",
    "        transformed_input = transformed_stacked[0:-1, :,:]\n",
    "        transformed_input = blurT.forward(transformed_input).numpy() # add blur to input\n",
    "        transformed_label = transformed_stacked[-1, :,:].numpy()\n",
    "\n",
    "        # # turn back into original shape\n",
    "        # transformed_input_orig = np.array([[transformed_input[:,i,j] for j in range(transformed_input.shape[2])] for i in range(transformed_input.shape[1])])\n",
    "    \n",
    "    except:\n",
    "        transformed_input = input_array\n",
    "        transformed_label = label_array\n",
    "\n",
    "    return transformed_input, transformed_label"
   ]
  },
  {
   "cell_type": "code",
   "execution_count": 13,
   "id": "e94586df",
   "metadata": {
    "ExecuteTime": {
     "end_time": "2023-04-24T04:03:56.484103Z",
     "start_time": "2023-04-24T04:03:56.469100Z"
    }
   },
   "outputs": [],
   "source": [
    "# SimpleITK Version\n",
    "# ------------------\n",
    "# Broken: Use the pytorch version unless this one gets fixed\n",
    "def transformITK(input_array, label_array):\n",
    "    \"\"\"\n",
    "    Data augmentation for training set.\n",
    "    input_array, label_array are in ndarray\n",
    "    \"\"\"\n",
    "\n",
    "    # stack input and label so they can be modified togther\n",
    "    stacked = np.zeros((input_array.shape[0], input_array.shape[1], input_array.shape[2] + 1))\n",
    "    stacked[:,:,:-1] = input_array\n",
    "    stacked[:,:,-1] = label_array\n",
    "\n",
    "    # transform to simpleITK image\n",
    "    image = sitk.GetImageFromArray(stacked)\n",
    "\n",
    "    # get info about image\n",
    "    width, height, depth = image.GetSize()\n",
    "    image_center =  image.TransformIndexToPhysicalPoint((int(np.ceil(width/2)),\n",
    "                                          int(np.ceil(height/2)),\n",
    "                                          int(np.ceil(depth/2))))\n",
    "\n",
    "    # set transformation parameters\n",
    "    sigma_max = 0.01\n",
    "    sigma_min = 1\n",
    "    rot_max = -5 # in degrees\n",
    "    rot_min = 5 # in degrees\n",
    "    trnsl_x_max = 0.5\n",
    "    trnsl_x_min = -0.5\n",
    "    trnsl_y_max = 0.5\n",
    "    trnsl_y_min = -0.5\n",
    "\n",
    "    sigma = (sigma_max - sigma_min) * np.random.random_sample() + sigma_min\n",
    "    random_degree = (rot_max - rot_min) * np.random.random_sample() + rot_min\n",
    "    random_x = (trnsl_x_max - trnsl_x_min) * np.random.random_sample() + trnsl_x_min\n",
    "    random_y = (trnsl_y_max - trnsl_y_min) * np.random.random_sample() + trnsl_y_min\n",
    "    translation = (random_x, random_y, 0)\n",
    "\n",
    "    # preform rotation and translation on both\n",
    "    rotation_angle = np.deg2rad(random_degree)\n",
    "    euler_transform = sitk.Euler3DTransform(image_center, rotation_angle, 0, 0, translation)\n",
    "    reference_image = image\n",
    "    interpolator = sitk.sitkBSpline\n",
    "    default_value = 0\n",
    "    transformed = sitk.Resample(image, reference_image, euler_transform,\n",
    "                     interpolator, default_value)\n",
    "\n",
    "    # seperate input and label\n",
    "    transformed_stacked = sitk.GetArrayFromImage(transformed)\n",
    "    transformed_input = transformed_stacked[:,:,0:-1]\n",
    "    transformed_label = transformed_stacked[:,:,-1]\n",
    "\n",
    "    # preform gaussion blur on only input\n",
    "    input_image = sitk.GetImageFromArray(transformed_input)\n",
    "    gaussian = sitk.SmoothingRecursiveGaussianImageFilter()\n",
    "    gaussian.SetSigma(sigma)\n",
    "    transformed_image = gaussian.Execute(input_image)\n",
    "    \n",
    "    # turn back into numpy array\n",
    "    transformed_input = sitk.GetArrayFromImage(transformed_image)\n",
    "    \n",
    "    return transformed_input, transformed_label"
   ]
  },
  {
   "cell_type": "code",
   "execution_count": 14,
   "id": "314e6821",
   "metadata": {
    "ExecuteTime": {
     "end_time": "2023-04-24T04:04:00.961111Z",
     "start_time": "2023-04-24T04:03:56.485105Z"
    }
   },
   "outputs": [],
   "source": [
    "for idx in range(100):\n",
    "    img = image_loader('train', 'x', idx)\n",
    "    label = image_loader('train', 'y', idx)\n",
    "    img_reordered = img.transpose((2, 0, 1))\n",
    "    # print(img_reordered.shape)\n",
    "    # print(label.shape)\n",
    "    # print(img.dtype)\n",
    "    transformed_input, transformed_label = transform(img_reordered, label)\n",
    "    # print(transformed_input.shape)\n",
    "    # print(transformed_label.shape)\n",
    "    # transformed_inputITK, transformed_labelITK = transformITK(img, label)\n",
    "\n",
    "    # turn back into original shape\n",
    "    transformed_input_orig = np.array([[transformed_input[:,i,j] for j in range(transformed_input.shape[2])] for i in range(transformed_input.shape[1])])\n",
    "    # print(transformed_input_orig.shape)\n",
    "\n"
   ]
  },
  {
   "cell_type": "code",
   "execution_count": 15,
   "id": "226e9370",
   "metadata": {
    "ExecuteTime": {
     "end_time": "2023-04-24T04:04:01.281184Z",
     "start_time": "2023-04-24T04:04:00.962112Z"
    }
   },
   "outputs": [
    {
     "name": "stderr",
     "output_type": "stream",
     "text": [
      "Clipping input data to the valid range for imshow with RGB data ([0..1] for floats or [0..255] for integers).\n",
      "Clipping input data to the valid range for imshow with RGB data ([0..1] for floats or [0..255] for integers).\n"
     ]
    },
    {
     "data": {
      "image/png": "[encoded data removed]",
      "text/plain": [
       "<Figure size 432x288 with 4 Axes>"
      ]
     },
     "metadata": {
      "needs_background": "light"
     },
     "output_type": "display_data"
    }
   ],
   "source": [
    "plt.subplot(2,3,1)\n",
    "plt.imshow(img)\n",
    "plt.title(\"Original Image\")\n",
    "\n",
    "plt.subplot(2,3,2)\n",
    "plt.imshow(transformed_input_orig)\n",
    "plt.title(\"Pytorch Image\")\n",
    "\n",
    "# plt.subplot(2,3,3)\n",
    "# plt.imshow(transformed_inputITK)\n",
    "# plt.title(\"SITK Image\")\n",
    "\n",
    "plt.subplot(2,3,4)\n",
    "plt.imshow(label)\n",
    "plt.title(\"Original Label\")\n",
    "\n",
    "plt.subplot(2,3,5)\n",
    "plt.imshow(transformed_label)\n",
    "plt.title(\"Pytorch Label\")\n",
    "\n",
    "# plt.subplot(2,3,6)\n",
    "# plt.imshow(transformed_labelITK)\n",
    "# plt.title(\"SITK Label\")\n",
    "\n",
    "plt.suptitle(\"Data Augmentation Demo\")\n",
    "plt.show()"
   ]
  },
  {
   "cell_type": "code",
   "execution_count": 16,
   "id": "02918ff2",
   "metadata": {
    "ExecuteTime": {
     "end_time": "2023-04-24T04:04:01.297190Z",
     "start_time": "2023-04-24T04:04:01.282185Z"
    }
   },
   "outputs": [
    {
     "name": "stdout",
     "output_type": "stream",
     "text": [
      "<class 'numpy.ndarray'>\n",
      "float32\n"
     ]
    }
   ],
   "source": [
    "print(type(transformed_input))\n",
    "print(transformed_input.dtype)"
   ]
  },
  {
   "cell_type": "code",
   "execution_count": 17,
   "id": "96748154",
   "metadata": {
    "ExecuteTime": {
     "end_time": "2023-04-24T04:04:01.313191Z",
     "start_time": "2023-04-24T04:04:01.298188Z"
    }
   },
   "outputs": [],
   "source": [
    "class TrainDataset(Dataset):\n",
    "    def __init__(self):\n",
    "        pass\n",
    "\n",
    "    def __len__(self):\n",
    "        return len_train\n",
    "\n",
    "    def __getitem__(self, idx):\n",
    "        x, y = image_loader('train', 'x', idx), image_loader('train', 'y', idx)\n",
    "        x = x.transpose((2, 0, 1))\n",
    "        x, y = transform(x, y)\n",
    "        return x, y # NOTE the permute, => Batch*Channel*Wright*Height\n",
    "    \n",
    "class ValidDataset(Dataset):\n",
    "    def __init__(self):\n",
    "        pass\n",
    "\n",
    "    def __len__(self):\n",
    "        return len_valid\n",
    "\n",
    "    def __getitem__(self, idx):\n",
    "        x, y = image_loader('valid', 'x', idx), image_loader('valid', 'y', idx)\n",
    "        x = x.transpose((2, 0, 1))\n",
    "        return x,y\n",
    "\n",
    "train_dataset = TrainDataset()\n",
    "valid_dataset = ValidDataset()\n",
    "train_dataloader = DataLoader(train_dataset, batch_size=Config.batch_size, shuffle=True, drop_last=True)\n",
    "valid_dataloader = DataLoader(valid_dataset, batch_size=Config.batch_size, shuffle=False)"
   ]
  },
  {
   "cell_type": "code",
   "execution_count": 18,
   "id": "1d5bf5f3",
   "metadata": {
    "ExecuteTime": {
     "end_time": "2023-04-24T04:04:01.329194Z",
     "start_time": "2023-04-24T04:04:01.314192Z"
    }
   },
   "outputs": [],
   "source": [
    "#Test the model\n",
    "#net = UNet3(4, 5) # 4 channels, 5 classes (label 3 actually is ingored)\n",
    "#y = net(torch.randn(8,4,240,240))\n",
    "#_, y = torch.max(y, 1)\n",
    "#print(y.size())\n",
    "#del net, y"
   ]
  },
  {
   "cell_type": "code",
   "execution_count": 19,
   "id": "6e99060d",
   "metadata": {
    "ExecuteTime": {
     "end_time": "2023-04-24T04:04:01.345198Z",
     "start_time": "2023-04-24T04:04:01.330196Z"
    }
   },
   "outputs": [],
   "source": [
    "#The F1 score is the Dice coefficient of the set of retrieved items and the set of relevant items."
   ]
  },
  {
   "cell_type": "code",
   "execution_count": null,
   "id": "5018b547",
   "metadata": {
    "ExecuteTime": {
     "start_time": "2023-04-24T04:03:54.085Z"
    }
   },
   "outputs": [
    {
     "name": "stdout",
     "output_type": "stream",
     "text": [
      "Epoch 1 start\n"
     ]
    },
    {
     "data": {
      "application/vnd.jupyter.widget-view+json": {
       "model_id": "ce453c2a087b4a6791ebcda3dae12c15",
       "version_major": 2,
       "version_minor": 0
      },
      "text/plain": [
       "  0%|          | 0/2208 [00:00<?, ?it/s]"
      ]
     },
     "metadata": {},
     "output_type": "display_data"
    }
   ],
   "source": [
    "device=Config.device\n",
    "\n",
    "model = UNet3(4,5)\n",
    "bestModel = None\n",
    "bestLoss = 1000000\n",
    "model.to(device)\n",
    "\n",
    "criterion = nn.CrossEntropyLoss()\n",
    "\n",
    "optimizer = optim.Adam(model.parameters(), lr=Config.lr)\n",
    "\n",
    "scheduler = CosineAnnealingWarmRestarts(optimizer, T_0=Config.T_0, T_mult=Config.T_mult, eta_min=Config.eta_min)\n",
    "\n",
    "\n",
    "for epoch in range(Config.epochs):\n",
    "    print(\"Epoch \"+str(epoch+1)+\" start\")\n",
    "    model.train()\n",
    "    train_bar = tqdm(total=Config.len_train_dataloader)\n",
    "\n",
    "    for i, (inputs, targets) in enumerate(train_dataloader):\n",
    "        inputs, targets = inputs.to(device), targets.type(torch.LongTensor).to(device)\n",
    "\n",
    "        optimizer.zero_grad()\n",
    "\n",
    "\n",
    "        outputs = model(inputs)\n",
    "        loss = criterion(outputs, targets)\n",
    "        loss.backward()\n",
    "        optimizer.step()\n",
    "\n",
    "        scheduler.step(epoch + i/len(train_dataloader))\n",
    "        train_bar.update(1)\n",
    "        \n",
    "    train_bar.close()\n",
    "\n",
    "    model.eval()\n",
    "\n",
    "    valid_bar = tqdm(total=Config.len_valid_dataloader)\n",
    "    with torch.no_grad():\n",
    "        valid_loss = 0.0\n",
    "        total_pred = []\n",
    "        total_target = []\n",
    "        for j, (inputs, targets) in enumerate(valid_dataloader):\n",
    "            inputs, targets = inputs.to(device), targets.type(torch.LongTensor).to(device)\n",
    "\n",
    "            # forward\n",
    "            outputs = model(inputs)\n",
    "            result = torch.argmax(outputs.detach(), dim=1)\n",
    "            loss = criterion(outputs, targets)\n",
    "            if loss<bestLoss:\n",
    "                bestLoss=loss.detach().cpu().item()\n",
    "                bestModel=deepcopy(model)\n",
    "            pred_numpy=result.cpu().numpy().flatten().tolist()\n",
    "            target_numpy=targets.cpu().numpy().flatten().tolist()\n",
    "            total_pred.append(pred_numpy)\n",
    "            total_target.append(target_numpy)\n",
    "            valid_loss += loss.item()\n",
    "            valid_bar.update(1)\n",
    "        valid_loss /= (j + 1)\n",
    "    valid_bar.close()\n",
    "    print(f\"Epoch {epoch+1}, Train Loss: {loss.item():.4f}, Valid Loss: {valid_loss:.4f}\")\n",
    "    print('------------------')\n",
    "\n",
    "print('Training completed, generating the report, may takes minutes')\n",
    "total_pred = np.concatenate(total_pred)\n",
    "total_target = np.concatenate(total_target)\n",
    "report = classification_report(total_target, total_pred, digits=3, target_names = ['Background', 'NCR/NET', 'ED', '-', 'ET'])\n",
    "print(report)"
   ]
  },
  {
   "cell_type": "code",
   "execution_count": null,
   "id": "bdb44690",
   "metadata": {
    "ExecuteTime": {
     "start_time": "2023-04-24T04:03:54.085Z"
    }
   },
   "outputs": [],
   "source": [
    "torch.save(bestModel, 'model/checkpoint.py')"
   ]
  },
  {
   "cell_type": "raw",
   "id": "8287e224",
   "metadata": {
    "ExecuteTime": {
     "end_time": "2023-04-23T09:44:32.770459Z",
     "start_time": "2023-04-23T09:44:19.361Z"
    }
   },
   "source": [
    "# reshape test\n",
    "idx = 6164\n",
    "img = image_loader('train', 'x', idx)\n",
    "\n",
    "# long way (ground truth)\n",
    "c0 = img[:,:,0]\n",
    "c1 = img[:,:,1]\n",
    "c2 = img[:,:,2]\n",
    "c3 = img[:,:,3]\n",
    "input_array = np.array([c0,c1,c2,c3])\n",
    "\n",
    "print(input_array.shape)\n",
    "\n",
    "# short way (experimental)\n",
    "test = np.array([img[:,:,i] for i in range(img.shape[2])])\n",
    "\n",
    "# test for equality\n",
    "print(np.sum(1*(input_array != test)))\n",
    "\n",
    "# now go back\n",
    "orig = np.array([[test[:,i,j] for j in range(test.shape[2])] for i in range(test.shape[1])])\n",
    "# orig = test.reshape(img.shape)\n",
    "\n",
    "# test for equality\n",
    "print(np.sum(1*(orig != img)))\n",
    "\n",
    "1*(orig != img)"
   ]
  },
  {
   "cell_type": "raw",
   "id": "ee1700f1",
   "metadata": {
    "ExecuteTime": {
     "end_time": "2023-04-23T09:44:32.771459Z",
     "start_time": "2023-04-23T09:44:19.362Z"
    }
   },
   "source": [
    "# reshape testing\n",
    "#a = np.array([[[1,2],[4,5]],[[7,8],[10,11]]])\n",
    "#b = np.array([[3,6],[9,12]])\n",
    "#c = np.zeros((a.shape[0], a.shape[1], a.shape[2] + 1))\n",
    "#c[:,:,:-1] = a\n",
    "#c[:,:,-1] = b\n",
    "#print(c)"
   ]
  },
  {
   "cell_type": "code",
   "execution_count": null,
   "id": "6dc18754",
   "metadata": {},
   "outputs": [],
   "source": []
  },
  {
   "cell_type": "code",
   "execution_count": null,
   "id": "d894f44f",
   "metadata": {},
   "outputs": [],
   "source": []
  }
 ],
 "metadata": {
  "kernelspec": {
   "display_name": "Python 3",
   "language": "python",
   "name": "python3"
  },
  "language_info": {
   "codemirror_mode": {
    "name": "ipython",
    "version": 3
   },
   "file_extension": ".py",
   "mimetype": "text/x-python",
   "name": "python",
   "nbconvert_exporter": "python",
   "pygments_lexer": "ipython3",
   "version": "3.8.8"
  }
 },
 "nbformat": 4,
 "nbformat_minor": 5
}
